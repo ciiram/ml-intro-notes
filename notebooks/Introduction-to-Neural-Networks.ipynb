{
 "cells": [
  {
   "cell_type": "markdown",
   "metadata": {},
   "source": [
    "# Introduction to Neural Networks\n",
    "\n",
    "Neural networks are a powerful machine learning framework used to learn complex input-output mappings from examples. Examples of successful applications of neural networks include:\n",
    "1. Classification of handwritten digits\n",
    "2. Speech recognition\n",
    "\n",
    "Neural networks can be viewed as a series of nonlinear transformations applied to the input variables where the nature of the transformation is learned from the training data. There are several neural network architectures but we will focus on a feedforward architecture where information flows in one direction from input to output and there is no feedback from the output back to the input.\n",
    "\n",
    "## The Multilayer Perceptron\n",
    "\n",
    "The multilayer perceptron (MLP) is a feed forward neural network. The figure below shows an MLP with a single hidden layer (from http://deeplearning.net/tutorial/mlp.html).\n",
    "![MLP](mlp.png)\n",
    "\n",
    "In the following example, assume that there are $D$ inputs, $M$ hidden units and $K$ outputs.\n",
    "\n",
    "The input to a given layer is obtained from the output of the previous layer. The output of a given layer is obtained by applying an activation function to a weighted linear combination of the inputs. \n",
    "\n",
    "Mathematically let $x_1,\\ldots,x_D$ be the input variables. The input to each hidden neuron is formed by taking a linear combination of the inputs. That is \n",
    "\n",
    "\\begin{eqnarray*}\n",
    "a_j = \\sum_{i=1}^Dw_{ji}^{(1)}x_i + w_{j0}^{(1)}\n",
    "\\end{eqnarray*}\n",
    "\n",
    "\n",
    "The output of the $j$th hidden layer is given by\n",
    "\\begin{eqnarray*}\n",
    "z_j=h(a_j)\n",
    "\\end{eqnarray*}\n",
    "where:\n",
    "1. $h(.)$ is a nonlinear activation function\n",
    "2. $w_{ji}^{(1)}$ is the weight from input layer node (neuron) $i$ to hidden layer node $j$\n",
    "3. $w_{j0}^{(1)}$ is known as the bias of hidden neuron $j$\n",
    "\n",
    "Similarly, the output $y_k$ of the $k$th output neuron is obtained by applying an activation function to a weighted linear combination of the inputs from the hidden layer.\n",
    "\n",
    "The activations for each of the hidden layer neurons is \n",
    "\\begin{eqnarray*}\n",
    "a_k = \\sum_{j=1}^Mw_{kj}^{(2)}z_j + w_{k0}^{(2)}\n",
    "\\end{eqnarray*}\n",
    "\n",
    "The output is computed from this activation depending on the problem at hand. \n",
    "\n",
    "1. For regression we have $y_k = a_k$\n",
    "2. For binary classification we use the sigmoid function $y_k = \\sigma(a_k)$\n",
    "3. For multiclass problems we use the softmax function\n",
    "\\begin{eqnarray*}\n",
    "y_k = \\frac{e^{a_k}}{\\sum_{n=1}^Ke^{a_n}}\n",
    "\\end{eqnarray*}\n",
    "which is a probability distribution over the output categories\n",
    "\n",
    "This output is a function of the weights $\\mathbf{w}$ and the inputs $\\mathbf{x}$ and we write $y_k(\\mathbf{x},\\mathbf{w})$. We can collect all the outputs into a vector $\\mathbf{y}(\\mathbf{x},\\mathbf{w})$\n",
    "\n",
    "For a neural network learning $K$ binary classification problems, we would compute the probability of membership of the $k$th class using\n",
    "\\begin{eqnarray*}\n",
    "y_k(\\mathbf{x},\\mathbf{w}) = \\sigma\\Big(\\sum_{j=1}^Mw_{kj}^{(2)}h\\big(\\sum_{i=1}^Dw_{ji}^{(1)}x_i + w_{j0}^{(1)}\\big) + w_{k0}^{(2)}\\Big)\n",
    "\\end{eqnarray*}\n",
    "\n",
    "\n",
    "### Activation Functions\n",
    "There are a number of activation functions used depending on the nature of the data and target variables. These include:\n",
    "1. The sigmoid function \n",
    "\\begin{eqnarray*}\n",
    "\\sigma(a)=\\frac{1}{1+\\exp(-a)}\n",
    "\\end{eqnarray*}\n",
    "2. The Tanh function \n",
    "\\begin{eqnarray*}\n",
    "\\tanh(a)=\\frac{\\exp(a)-\\exp(-a)}{\\exp(a)+\\exp(-a)}\n",
    "\\end{eqnarray*}\n",
    "3. The rectified linear unit (ReLU)\n",
    "\\begin{eqnarray*}\n",
    "f(a)=max\\{o,a\\}\n",
    "\\end{eqnarray*}\n",
    "\n"
   ]
  },
  {
   "cell_type": "code",
   "execution_count": 1,
   "metadata": {},
   "outputs": [
    {
     "data": {
      "image/png": "[encoded data removed]",
      "text/plain": [
       "<Figure size 432x288 with 1 Axes>"
      ]
     },
     "metadata": {},
     "output_type": "display_data"
    }
   ],
   "source": [
    "import numpy as np\n",
    "import matplotlib.pyplot as plt\n",
    "\n",
    "def sigmoid(a):\n",
    "    return 1 / (1 + np.exp(-a))\n",
    "\n",
    "def relu(a):\n",
    "    result = np.copy(a)\n",
    "    result[result < 0] = 0\n",
    "    return result\n",
    "\n",
    "    \n",
    "\n",
    "%matplotlib inline\n",
    "a = np.linspace(-3, 3, 100)\n",
    "plt.plot(a, sigmoid(a))\n",
    "plt.plot(a, np.tanh(a))\n",
    "plt.plot(a, relu(a))\n",
    "plt.grid(True)\n",
    "plt.xlabel(r'$a$', fontsize=14);\n",
    "plt.ylabel(r'$\\sigma(a)$', fontsize=14);"
   ]
  },
  {
   "cell_type": "markdown",
   "metadata": {},
   "source": [
    "### Network Learning\n",
    "\n",
    "The aim of training the neural network is to learn an input-output mapping from examples. We aim to learn a set of weights and biases to obtain the appropriate mapping. Given $N$ training examples $\\mathbf{x}_n$ and the correspinding target output vectors $\\mathbf{t}_n$, we aim to learn weights and biases to minimize an appropriate error. In regression problems we may use the sum-of-square error.\n",
    "\\begin{eqnarray*}\n",
    "E(\\mathbf{w})=\\frac{1}{2}\\sum_{n=1}^N||\\mathbf{y}(\\mathbf{x}_n,\\mathbf{w})-\\mathbf{t}_n)||^2\n",
    "\\end{eqnarray*}\n",
    "\n",
    "For binary classification we use the cross-entropy error which we encountered in logistic regression.\n",
    "\n",
    "\\begin{eqnarray*}\n",
    "E(\\mathbf{w}) = -\\sum_{n=1}^N\\{t_n\\ln y_n + (1-t_n)\\ln(1-y_n)\\}\n",
    "\\end{eqnarray*}\n",
    "\n",
    "\n",
    "\n",
    "This learning is often achieved by gradient descent where the weights at one time step $\\tau$ are modified in the direction of negative gradient according to \n",
    "\\begin{eqnarray*}\n",
    "\\mathbf{w}^{(\\tau+1)}=\\mathbf{w}^{(\\tau)}-\\eta\\nabla E(\\mathbf{w}^{(\\tau)})\n",
    "\\end{eqnarray*}\n",
    "where $\\eta>0$ is the learning rate. In practice, for the MLP the gradient of the error function is found by backpropagation.\n",
    "\n"
   ]
  },
  {
   "cell_type": "code",
   "execution_count": null,
   "metadata": {
    "collapsed": true
   },
   "outputs": [],
   "source": []
  }
 ],
 "metadata": {
  "kernelspec": {
   "display_name": "Python 3",
   "language": "python",
   "name": "python3"
  },
  "language_info": {
   "codemirror_mode": {
    "name": "ipython",
    "version": 3
   },
   "file_extension": ".py",
   "mimetype": "text/x-python",
   "name": "python",
   "nbconvert_exporter": "python",
   "pygments_lexer": "ipython3",
   "version": "3.5.3"
  }
 },
 "nbformat": 4,
 "nbformat_minor": 1
}
