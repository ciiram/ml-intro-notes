{
 "cells": [
  {
   "cell_type": "markdown",
   "metadata": {},
   "source": [
    "\n",
    "## Regression\n",
    "In regression, we aim to predict the value of a continuous target, say $y$ given a vector of input variables $\\mathbf{x}=[x_1, x_2,...,x_D]^T$. Thus we aim to learn a function\n",
    "\n",
    "$\n",
    "\\begin{equation}\n",
    "y(\\mathbf{x}, \\mathbf{w})\n",
    "\\end{equation}\n",
    "$\n",
    "\n",
    "that predicts the continuous target. Compare this to classification where we map the input to a set of categories.\n",
    "\n",
    "The function $y(\\mathbf{x}, \\mathbf{w})$ may take the form of a linear combination of the input variables. That is \n",
    "\n",
    "$\n",
    "\\begin{equation}\n",
    "y(\\mathbf{x}, \\mathbf{w})=w_0+w_1x_1+\\ldots+w_Dx_D\n",
    "\\end{equation}\n",
    "$\n",
    "\n",
    "and this is known as linear regression.\n",
    "\n",
    "We can also consider linear combinations of nonlinear functions of the input variables. That is \n",
    "\n",
    "$\n",
    "\\begin{equation}\n",
    "y(\\mathbf{x}, \\mathbf{w})=w_0+\\sum_{j=1}^{M-1}w_j\\phi_j(\\mathbf{x})\n",
    "\\end{equation}\n",
    "$\n",
    "\n",
    "where $\\phi_j(\\mathbf{x})$ is known as a basis function.\n",
    "\n",
    "We can also set\n",
    "\n",
    "$\n",
    "\\begin{equation}\n",
    "y(\\mathbf{x}, \\mathbf{w})=\\sum_{j=0}^{M-1}w_j\\phi_j(\\mathbf{x})=\\mathbf{w}^T\\phi(\\mathbf{x})\n",
    "\\end{equation}\n",
    "$\n",
    "\n",
    "with $\\phi_0(\\mathbf{x})=1$.\n",
    "\n",
    "## Example\n",
    "Consider a regression problem where we observe an input variable $x$ and wish  predict a target variable $t$. The toy data are generated below"
   ]
  },
  {
   "cell_type": "code",
   "execution_count": 2,
   "metadata": {},
   "outputs": [
    {
     "data": {
      "text/plain": [
       "<matplotlib.text.Text at 0x7f65bc059748>"
      ]
     },
     "execution_count": 2,
     "metadata": {},
     "output_type": "execute_result"
    },
    {
     "data": {
      "image/png": "[encoded data removed]",
      "text/plain": [
       "<matplotlib.figure.Figure at 0x7f65bc2b27f0>"
      ]
     },
     "metadata": {},
     "output_type": "display_data"
    }
   ],
   "source": [
    "import numpy as np\n",
    "import matplotlib.pyplot as plt\n",
    "noise_std = .02 # Noise standard deviation\n",
    "num_points = 20 # Number of data points\n",
    "x = np.linspace(0, .5, num_points) #input variables\n",
    "t = np.sin(2 * np.pi * x) + noise_std * np.random.randn(len(x)) # target variables\n",
    "\n",
    "#Plot the points\n",
    "%matplotlib inline\n",
    "plt.plot(x, t, 'o', markersize=8)\n",
    "plt.xlabel(r'$x$', fontsize=20)\n",
    "plt.ylabel(r'$t$', fontsize=20)"
   ]
  },
  {
   "cell_type": "markdown",
   "metadata": {},
   "source": [
    "Suppose we assume that we can use a polynomial to model the relationship between $x$ and $t$\n",
    "\\begin{eqnarray*}\n",
    "t&=&w_0+w_1x+w_2x^2+\\ldots+w_Px^P\\\\\n",
    "&=&\\sum_{i=0}^Pw_ix^i\n",
    "\\end{eqnarray*}\n",
    "\n",
    "This is of the form\n",
    "\n",
    "$\n",
    "\\begin{equation}\n",
    "y(x, \\mathbf{w})=\\sum_{j=0}^{M-1}w_j\\phi_j(x)=\\mathbf{w}^T\\phi(x)\n",
    "\\end{equation}\n",
    "$\n",
    "\n",
    "with $\\phi_j(x)=x^j$\n",
    "\n",
    "The model has a set of parameters $\\mathbf{w}=[w_0,\\ldots,w_P]^T$ and we can write \n",
    "\\begin{equation*}\n",
    "t=y(x,\\mathbf{w})\n",
    "\\end{equation*}\n",
    "Given a polynomial order $P$, we learn the parameters $\\mathbf{w}^\\ast$ that best explain the training data.\n",
    "\n",
    "\n",
    "By finding the $\\mathbf{w}^\\ast$ that minimizes the sum of square error\n",
    "\\begin{equation*}\n",
    "E(\\mathbf{w})=\\frac{1}{2}\\sum_{n=1}^N(y(x_n,\\mathbf{w})-t_n)^2\n",
    "\\end{equation*}\n",
    "we obtain the polynomial fit of the data $y(x,\\mathbf{w}^\\ast)$\n",
    "\n",
    "\n",
    "The numpy function $polyfit$ performs this minimization and returns the coefficients. The function $poly1d$ creates a polynomial object. (Use help to find out what these functions do)"
   ]
  },
  {
   "cell_type": "code",
   "execution_count": 3,
   "metadata": {
    "collapsed": true
   },
   "outputs": [],
   "source": [
    "np.polyfit?"
   ]
  },
  {
   "cell_type": "code",
   "execution_count": 4,
   "metadata": {
    "collapsed": true
   },
   "outputs": [],
   "source": [
    "np.poly1d?"
   ]
  },
  {
   "cell_type": "markdown",
   "metadata": {},
   "source": [
    "### Fiting the model\n",
    "\n",
    "We set the polynomial order and fit the polynomial via least squares.\n"
   ]
  },
  {
   "cell_type": "code",
   "execution_count": 10,
   "metadata": {
    "collapsed": true
   },
   "outputs": [],
   "source": [
    "P = 2\n",
    "polynomial=np.poly1d(np.polyfit(x, t, P))"
   ]
  },
  {
   "cell_type": "markdown",
   "metadata": {},
   "source": [
    "To plot the polynomial we create a grid and evaluate the polynomial at these points.\n"
   ]
  },
  {
   "cell_type": "code",
   "execution_count": 13,
   "metadata": {},
   "outputs": [
    {
     "data": {
      "text/plain": [
       "[<matplotlib.lines.Line2D at 0x7f65bbe27470>]"
      ]
     },
     "execution_count": 13,
     "metadata": {},
     "output_type": "execute_result"
    },
    {
     "data": {
      "image/png": "[encoded data removed]",
      "text/plain": [
       "<matplotlib.figure.Figure at 0x7f65bbf6ee80>"
      ]
     },
     "metadata": {},
     "output_type": "display_data"
    }
   ],
   "source": [
    "x_plot=np.linspace(0, .5, 100)\n",
    "\n",
    "%matplotlib inline\n",
    "plt.plot(x, t, 'o', markersize=8)\n",
    "plt.xlabel(r'$x$', fontsize=20)\n",
    "plt.ylabel(r'$t$', fontsize=20)\n",
    "plt.plot(x_plot, polynomial(x_plot),linewidth=2)"
   ]
  },
  {
   "cell_type": "markdown",
   "metadata": {},
   "source": [
    "Play around with the model order and see what happens as you increase the order. What is the best value for $P$?"
   ]
  },
  {
   "cell_type": "markdown",
   "metadata": {},
   "source": [
    "## Model Selection\n",
    "\n",
    "Determining the ideal $P$ is problem in model selection. This parameter governs the complexity of the model.\n",
    "High values of $P$ are more flexible but harder to fit and may suffer numerical instability especially when data are limited.\n",
    "\n",
    "To determine a good value of $P$ we can monitor the error on a hold out test set. We divide the data into two, a training set and a test set. Here let us use half the data for training and the other half for testing."
   ]
  },
  {
   "cell_type": "code",
   "execution_count": 14,
   "metadata": {
    "collapsed": true
   },
   "outputs": [],
   "source": [
    "x_train = x[range(0, len(x), 2)]\n",
    "x_test = x[range(1, len(x), 2)]\n",
    "t_train = t[range(0, len(t),2)]\n",
    "t_test = t[range(1, len(t), 2)]"
   ]
  },
  {
   "cell_type": "markdown",
   "metadata": {
    "collapsed": true
   },
   "source": [
    "We compute the error on the hold out set for $P=0,1,\\ldots,9$, a total of 10 values. We also compute the error on the training set."
   ]
  },
  {
   "cell_type": "code",
   "execution_count": 15,
   "metadata": {},
   "outputs": [
    {
     "name": "stderr",
     "output_type": "stream",
     "text": [
      "/home/ciira/anaconda3/lib/python3.6/site-packages/ipykernel_launcher.py:5: RankWarning: Polyfit may be poorly conditioned\n",
      "  \"\"\"\n",
      "/home/ciira/anaconda3/lib/python3.6/site-packages/ipykernel_launcher.py:5: RankWarning: Polyfit may be poorly conditioned\n",
      "  \"\"\"\n",
      "/home/ciira/anaconda3/lib/python3.6/site-packages/ipykernel_launcher.py:5: RankWarning: Polyfit may be poorly conditioned\n",
      "  \"\"\"\n",
      "/home/ciira/anaconda3/lib/python3.6/site-packages/ipykernel_launcher.py:5: RankWarning: Polyfit may be poorly conditioned\n",
      "  \"\"\"\n",
      "/home/ciira/anaconda3/lib/python3.6/site-packages/ipykernel_launcher.py:5: RankWarning: Polyfit may be poorly conditioned\n",
      "  \"\"\"\n"
     ]
    },
    {
     "data": {
      "text/plain": [
       "<matplotlib.text.Text at 0x7f65bbc3e630>"
      ]
     },
     "execution_count": 15,
     "metadata": {},
     "output_type": "execute_result"
    },
    {
     "data": {
      "image/png": "[encoded data removed]",
      "text/plain": [
       "<matplotlib.figure.Figure at 0x7f65bc292c18>"
      ]
     },
     "metadata": {},
     "output_type": "display_data"
    }
   ],
   "source": [
    "num_order = 10\n",
    "err_test = np.zeros(num_order)\n",
    "err_train = np.zeros(num_order)\n",
    "for order in range(num_order):\n",
    "    polynomial = np.poly1d(np.polyfit(x_train, t_train, order))\n",
    "    err_test[order] = np.sqrt(sum((polynomial(x_test) - t_test)**2)/len(x_test))\n",
    "    err_train[order] = np.sqrt(sum((polynomial(x_train) - t_train)**2)/len(x_train))\n",
    "    \n",
    "%matplotlib inline    \n",
    "plt.plot(range(num_order), err_train, '-o', linewidth=2, markersize=10)\n",
    "plt.plot(range(num_order), err_test, '-o', linewidth=2, markersize=10)\n",
    "plt.legend(['Training data','Test data'])\n",
    "plt.xlabel('Polynomial Order')\n",
    "plt.ylabel('Error')\n",
    "    \n"
   ]
  },
  {
   "cell_type": "markdown",
   "metadata": {},
   "source": [
    "## K-fold Cross-validation\n",
    "\n",
    "An alternative approach is to divide the data into $K$ (almost) equal sized parts and use $K-1$ parts to fit the model and test the model on the remaining part. We first dived the data using the scikit-learn package KFold.\n"
   ]
  },
  {
   "cell_type": "code",
   "execution_count": 24,
   "metadata": {
    "collapsed": true
   },
   "outputs": [],
   "source": [
    "from sklearn.model_selection import KFold\n",
    "import scipy.stats as ss #a package to compute statistics\n",
    "\n",
    "#Lets generate more data\n",
    "num_points = 20 # Number of data points\n",
    "x = np.linspace(0, .5, num_points) #input variables\n",
    "t = np.sin(2 * np.pi * x) + noise_std * np.random.randn(len(x)) # target variables\n",
    "\n",
    "num_order = 10\n",
    "num_folds = 5\n",
    "err_test = np.zeros((num_folds,num_order))\n",
    "kf = KFold(n_splits=num_folds)\n"
   ]
  },
  {
   "cell_type": "markdown",
   "metadata": {},
   "source": [
    "The variable $kf$ now contains indices indicating which data points correspond to the training and test sets. "
   ]
  },
  {
   "cell_type": "code",
   "execution_count": 25,
   "metadata": {},
   "outputs": [],
   "source": [
    "i=0\n",
    "for train_index, test_index in kf.split(x):\n",
    "    x_train=x[train_index]\n",
    "    x_test=x[test_index]\n",
    "    t_train=t[train_index]\n",
    "    t_test=t[test_index]\n",
    "    for order in range(num_order):\n",
    "        polynomial=np.poly1d(np.polyfit(x_train, t_train, order))\n",
    "        err_test[i,order]=np.sqrt(sum((polynomial(x_test)-t_test)**2)/len(x_test))\n",
    "        \n",
    "    i+=1"
   ]
  },
  {
   "cell_type": "markdown",
   "metadata": {},
   "source": [
    "For each polynomial order we have error rates for each of the K folds. We can compute the $95\\%$ confidence interval of the error and estimate model uncertainty."
   ]
  },
  {
   "cell_type": "code",
   "execution_count": 26,
   "metadata": {},
   "outputs": [
    {
     "data": {
      "text/plain": [
       "(0, 2)"
      ]
     },
     "execution_count": 26,
     "metadata": {},
     "output_type": "execute_result"
    },
    {
     "data": {
      "image/png": "[encoded data removed]",
      "text/plain": [
       "<matplotlib.figure.Figure at 0x7f65b1cbd8d0>"
      ]
     },
     "metadata": {},
     "output_type": "display_data"
    }
   ],
   "source": [
    "ss.mstats.mquantiles(err_test)\n",
    "quantiles=ss.mstats.mquantiles(err_test,prob=[0.025, 0.5, 0.975],axis=0)\n",
    "\n",
    "%matplotlib inline  \n",
    "plt.errorbar(range(num_order), quantiles[1,:], yerr=[quantiles[0,:],quantiles[2,:]],elinewidth=2,linewidth=2)\n",
    "plt.xlabel('Polynomial Order')\n",
    "plt.ylabel('Error')\n",
    "plt.xlim([-1,10])\n",
    "plt.ylim([0,2])"
   ]
  },
  {
   "cell_type": "code",
   "execution_count": null,
   "metadata": {
    "collapsed": true
   },
   "outputs": [],
   "source": []
  }
 ],
 "metadata": {
  "kernelspec": {
   "display_name": "Python 3",
   "language": "python",
   "name": "python3"
  },
  "language_info": {
   "codemirror_mode": {
    "name": "ipython",
    "version": 3
   },
   "file_extension": ".py",
   "mimetype": "text/x-python",
   "name": "python",
   "nbconvert_exporter": "python",
   "pygments_lexer": "ipython3",
   "version": "3.6.1"
  }
 },
 "nbformat": 4,
 "nbformat_minor": 1
}
