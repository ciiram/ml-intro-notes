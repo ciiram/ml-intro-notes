{
 "cells": [
  {
   "cell_type": "markdown",
   "metadata": {},
   "source": [
    "## Street View House Number Recognition - MLP\n",
    "\n",
    "Moving on from the MNIST data, we will look at recognizing house numbers. This is more complicated then recognizing single digits because house numbers can have a varying number of digits.\n",
    "\n",
    "The dataset we will use is the [Street View House Numbers (SVHN) Dataset](http://ufldl.stanford.edu/housenumbers/) which contains house numbers obtained from Google Street View images.\n",
    "\n",
    "Download the MNIST-like 32-by-32 images and place them in the `data` folder.  [train_32x32.mat](http://ufldl.stanford.edu/housenumbers/train_32x32.mat), [test_32x32.mat](http://ufldl.stanford.edu/housenumbers/test_32x32.mat) , [extra_32x32.mat](http://ufldl.stanford.edu/housenumbers/extra_32x32.mat)\n",
    "\n",
    "Let's visualise."
   ]
  },
  {
   "cell_type": "code",
   "execution_count": null,
   "metadata": {},
   "outputs": [],
   "source": [
    "import random\n",
    "import matplotlib.pyplot as plt\n",
    "import scipy.io\n",
    "training_data = scipy.io.loadmat('../data/train_32x32.mat')\n",
    "test_data = scipy.io.loadmat('../data/test_32x32.mat')\n",
    "\n",
    "X_train = training_data['X']\n",
    "y_train = training_data['y']\n",
    "X_test = test_data['X']\n",
    "y_test = test_data['y']\n",
    "\n",
    "training_index = random.choice(range(X_train.shape[3]))\n",
    "%matplotlib inline\n",
    "plt.figure()\n",
    "plt.imshow(X_train[:, :, :, training_index]);\n",
    "plt.xticks([]);\n",
    "plt.yticks([]);\n",
    "plt.title(y_train[training_index]);"
   ]
  },
  {
   "cell_type": "markdown",
   "metadata": {},
   "source": [
    "We first attempt to classify the data using an MLP with one of the three channels flattened and concatenated"
   ]
  },
  {
   "cell_type": "code",
   "execution_count": null,
   "metadata": {
    "collapsed": true
   },
   "outputs": [],
   "source": [
    "X_train_mlp = X_train[:,:,0].reshape(32 * 32, -1)\n",
    "X_test_mlp = X_test[:,:,0].reshape(32 * 32, -1)\n",
    "X_train_mlp = X_train_mlp.astype('float32')\n",
    "X_test_mlp = X_test_mlp.astype('float32')\n",
    "\n",
    "# normalize\n",
    "X_train_mlp /= 255\n",
    "X_test_mlp /= 255\n",
    "\n",
    "X_train_mlp = X_train_mlp.T\n",
    "X_test_mlp = X_test_mlp.T"
   ]
  },
  {
   "cell_type": "code",
   "execution_count": null,
   "metadata": {},
   "outputs": [],
   "source": [
    "from keras.utils import to_categorical\n",
    "Y_train = to_categorical(y_train, num_classes=None)\n",
    "Y_test = to_categorical(y_test, num_classes=None)\n",
    "\n"
   ]
  },
  {
   "cell_type": "markdown",
   "metadata": {
    "collapsed": true
   },
   "source": [
    "We now create the MLP using Keras"
   ]
  },
  {
   "cell_type": "code",
   "execution_count": null,
   "metadata": {
    "collapsed": true
   },
   "outputs": [],
   "source": [
    "from keras.models import Sequential\n",
    "from keras.layers.core import Dense, Dropout, Activation\n",
    "from keras.optimizers import SGD, Adam, RMSprop\n",
    "\n",
    "model = Sequential()\n",
    "model.add(Dense(256, input_shape=(X_train_mlp.shape[1],)))\n",
    "model.add(Activation('relu'))\n",
    "model.add(Dropout(0.2))\n",
    "model.add(Dense(256))\n",
    "model.add(Activation('relu'))\n",
    "model.add(Dropout(0.2))\n",
    "model.add(Dense(Y_train.shape[1]))\n",
    "model.add(Activation('softmax'))\n",
    "model.compile(loss='categorical_crossentropy',\n",
    "              optimizer=RMSprop(),\n",
    "              metrics=['accuracy'])\n",
    "\n",
    "    "
   ]
  },
  {
   "cell_type": "code",
   "execution_count": null,
   "metadata": {},
   "outputs": [],
   "source": [
    "model.summary()"
   ]
  },
  {
   "cell_type": "code",
   "execution_count": null,
   "metadata": {},
   "outputs": [],
   "source": [
    "batch_size = 32\n",
    "num_epoch = 10\n",
    "history = model.fit(X_train_mlp, \n",
    "              Y_train, \n",
    "              batch_size=batch_size, \n",
    "              epochs=num_epoch, verbose=1, \n",
    "              validation_data=(X_test_mlp, Y_test))"
   ]
  },
  {
   "cell_type": "code",
   "execution_count": null,
   "metadata": {},
   "outputs": [],
   "source": [
    "plt.plot(history.history['acc'])\n",
    "plt.plot(history.history['val_acc'])\n",
    "plt.title('Training Metrics')\n",
    "plt.ylabel('Accuracy')\n",
    "plt.xlabel('Epoch')\n",
    "plt.legend(['Train', 'Val'], loc='upper left')"
   ]
  },
  {
   "cell_type": "markdown",
   "metadata": {},
   "source": [
    "Using convolutional neural networks can lead to great improvement here. We will consider them in coming weeks."
   ]
  },
  {
   "cell_type": "code",
   "execution_count": null,
   "metadata": {
    "collapsed": true
   },
   "outputs": [],
   "source": []
  }
 ],
 "metadata": {
  "kernelspec": {
   "display_name": "Python 3",
   "language": "python",
   "name": "python3"
  },
  "language_info": {
   "codemirror_mode": {
    "name": "ipython",
    "version": 3
   },
   "file_extension": ".py",
   "mimetype": "text/x-python",
   "name": "python",
   "nbconvert_exporter": "python",
   "pygments_lexer": "ipython3",
   "version": "3.5.3"
  }
 },
 "nbformat": 4,
 "nbformat_minor": 2
}
